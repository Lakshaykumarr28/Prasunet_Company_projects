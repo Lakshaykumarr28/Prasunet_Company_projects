{
 "nbformat": 4,
 "nbformat_minor": 0,
 "metadata": {
  "colab": {
   "provenance": [],
   "authorship_tag": "ABX9TyPvPF0Ks68Rg7cSGo48PgfJ",
   "include_colab_link": true
  },
  "kernelspec": {
   "name": "python3",
   "display_name": "Python 3"
  },
  "language_info": {
   "name": "python"
  }
 },
 "cells": [
  {
   "cell_type": "markdown",
   "metadata": {
    "id": "view-in-github",
    "colab_type": "text"
   },
   "source": [
    "<a href=\"https://colab.research.google.com/github/Lakshaykumarr28/Prasunet_ML_01/blob/main/Linear_Regression.ipynb\" target=\"_parent\"><img src=\"https://colab.research.google.com/assets/colab-badge.svg\" alt=\"Open In Colab\"/></a>"
   ]
  },
  {
   "cell_type": "code",
   "execution_count": 1,
   "metadata": {
    "colab": {
     "base_uri": "https://localhost:8080/"
    },
    "id": "HYweztyOfAix",
    "outputId": "f38bf75b-4069-49d9-a7b8-1d6ab87070c9"
   },
   "source": [
    "!git clone https://github.com/Lakshaykumarr28/Prasunet_ML_01"
   ],
   "outputs": []
  },
  {
   "cell_type": "markdown",
   "source": [
    "Importing all the necessary libraries"
   ],
   "metadata": {
    "id": "XEO1tcfcfq_7"
   }
  },
  {
   "cell_type": "code",
   "source": [
    "import numpy as np\n",
    "import pandas as pd\n",
    "import matplotlib.pyplot as plt\n",
    "import seaborn as sns\n",
    "\n",
    "from sklearn.linear_model import LinearRegression\n",
    "from sklearn.metrics import mean_squared_error, r2_score\n",
    "from sklearn.model_selection import train_test_split, cross_val_score"
   ],
   "metadata": {
    "id": "iVCGW_eRfvLH"
   },
   "execution_count": 19,
   "outputs": []
  },
  {
   "cell_type": "markdown",
   "source": [
    "Reading the Training and Testing data"
   ],
   "metadata": {
    "id": "n8VbBDXQf7MX"
   }
  },
  {
   "cell_type": "code",
   "source": [
    "training_data = pd.read_csv(\"/content/Prasunet_ML_01/Dataset_ML_01/train.csv\")\n",
    "testing_data = pd.read_csv(\"/content/Prasunet_ML_01/Dataset_ML_01/test.csv\")"
   ],
   "metadata": {
    "id": "Yej-st_Uf-KQ"
   },
   "execution_count": 4,
   "outputs": []
  },
  {
   "cell_type": "markdown",
   "source": [
    "# Exploring the Dataset"
   ],
   "metadata": {
    "id": "OmOGSjFAgaOK"
   }
  },
  {
   "cell_type": "markdown",
   "source": [
    "Printing information about the columns"
   ],
   "metadata": {
    "id": "RGtfPZvSgw8E"
   }
  },
  {
   "cell_type": "code",
   "source": [
    "training_data.info()"
   ],
   "metadata": {
    "colab": {
     "base_uri": "https://localhost:8080/"
    },
    "id": "hRf772kwgpsS",
    "outputId": "8e37e207-d6b5-429e-df47-117cfb47e482"
   },
   "execution_count": 7,
   "outputs": []
  },
  {
   "cell_type": "markdown",
   "source": [
    "Describing the data"
   ],
   "metadata": {
    "id": "3RGCP57qg28T"
   }
  },
  {
   "cell_type": "code",
   "source": [
    "training_data.describe()"
   ],
   "metadata": {
    "colab": {
     "base_uri": "https://localhost:8080/",
     "height": 349
    },
    "id": "bVZm9T_EgdR6",
    "outputId": "3e7e56a1-56e4-43f6-b8d5-9629c7008c15"
   },
   "execution_count": 5,
   "outputs": []
  },
  {
   "cell_type": "markdown",
   "source": [
    "# Data Preprocessing"
   ],
   "metadata": {
    "id": "b0j1qp5kgT2x"
   }
  },
  {
   "cell_type": "markdown",
   "source": [
    "Finding the columns with NULL values"
   ],
   "metadata": {
    "id": "YhYbiT-3g82i"
   }
  },
  {
   "cell_type": "code",
   "source": [
    "null_values = training_data.isnull().sum()"
   ],
   "metadata": {
    "id": "K8iPqum8gXQx"
   },
   "execution_count": 11,
   "outputs": []
  },
  {
   "cell_type": "markdown",
   "source": [
    "Handling the Columns with NULL values"
   ],
   "metadata": {
    "id": "1CiJ2DEShsSr"
   }
  },
  {
   "cell_type": "code",
   "source": [
    "null_columns = training_data.columns[training_data.isnull().any()]\n",
    "\n",
    "print(\"NULL columns are:\")\n",
    "for col in null_columns:\n",
    "  print(col)"
   ],
   "metadata": {
    "colab": {
     "base_uri": "https://localhost:8080/"
    },
    "id": "mrFqgIpJhvle",
    "outputId": "72837aef-e1dc-45a6-ec88-5521109170ea"
   },
   "execution_count": 10,
   "outputs": []
  },
  {
   "cell_type": "markdown",
   "source": [
    "Printing the number of NULL values in null_columns"
   ],
   "metadata": {
    "id": "0gkgkRaOiSzm"
   }
  },
  {
   "cell_type": "code",
   "source": [
    "print(\"The columns with number of NULL or Missing values are:\")\n",
    "null_columns = null_values[null_values > 0]\n",
    "print(null_columns)"
   ],
   "metadata": {
    "colab": {
     "base_uri": "https://localhost:8080/"
    },
    "id": "6t0tpzgdiSeH",
    "outputId": "cd5f11d1-9bec-48d0-caac-0aaae13b162f"
   },
   "execution_count": 13,
   "outputs": []
  },
  {
   "cell_type": "markdown",
   "source": [
    "Checking if there are duplicate rows and deleting (if any)"
   ],
   "metadata": {
    "id": "fhQh4zzoj-tz"
   }
  },
  {
   "cell_type": "code",
   "source": [
    "repeating_rows = training_data.duplicated().sum()\n",
    "print(f\"number of duplicated rows are: {repeating_rows}\")\n",
    "training_data.drop_duplicates(inplace = True)"
   ],
   "metadata": {
    "colab": {
     "base_uri": "https://localhost:8080/"
    },
    "id": "8oBkyk9MjSQw",
    "outputId": "19b4e5b5-058d-467e-a8cd-1e9b8dacf6c3"
   },
   "execution_count": 15,
   "outputs": []
  },
  {
   "cell_type": "markdown",
   "source": [
    "# Selecting Columns as Features for Training and Testing"
   ],
   "metadata": {
    "id": "8-ceUCkolTCk"
   }
  },
  {
   "cell_type": "code",
   "source": [
    "features = training_data[['TotalBsmtSF', 'BedroomAbvGr', 'BsmtFullBath', 'BsmtHalfBath', 'FullBath', 'HalfBath']]\n",
    "target = training_data[['SalePrice']]\n"
   ],
   "metadata": {
    "id": "WdrhwAZ4lo0Y"
   },
   "execution_count": 17,
   "outputs": []
  },
  {
   "cell_type": "markdown",
   "source": [
    "Splitting the Dataset for Training and Testing"
   ],
   "metadata": {
    "id": "01loku59lx4Y"
   }
  },
  {
   "cell_type": "code",
   "source": [
    "X = training_data[['TotalBsmtSF', 'BedroomAbvGr', 'BsmtFullBath', 'BsmtHalfBath',\"FullBath\", \"HalfBath\"]]\n",
    "y = training_data['SalePrice']\n",
    "X_train, X_test, y_train, y_test = train_test_split(X, y, test_size=0.2, random_state=42)"
   ],
   "metadata": {
    "id": "ztQTSEyRlxMA"
   },
   "execution_count": 20,
   "outputs": []
  },
  {
   "cell_type": "markdown",
   "source": [
    "Creating a dataframe with only selected features and target"
   ],
   "metadata": {
    "id": "dgutTcbvmPjr"
   }
  },
  {
   "cell_type": "code",
   "source": [
    "df = pd.concat([features, target], axis = 1)\n",
    "df.head()"
   ],
   "metadata": {
    "colab": {
     "base_uri": "https://localhost:8080/",
     "height": 206
    },
    "id": "ic3CW5UemTyF",
    "outputId": "65861df0-e72d-487a-871f-5a5940cdb8d3"
   },
   "execution_count": 23,
   "outputs": []
  },
  {
   "cell_type": "markdown",
   "source": [
    "Creating a Correlation Matrix and plotting a heatmap for the same"
   ],
   "metadata": {
    "id": "9u3L2T2fmlGu"
   }
  },
  {
   "cell_type": "code",
   "source": [
    "# the correlation matrix\n",
    "correlation_matrix = df.corr()\n",
    "\n",
    "# heatmap for the correlation matrix\n",
    "plt.figure(figsize=(8, 8))\n",
    "sns.heatmap(correlation_matrix, annot=True, cmap='Greens', fmt=\".2f\")\n",
    "plt.title(\"Correlation Heatmap: Features VS Target\")\n",
    "plt.show()"
   ],
   "metadata": {
    "colab": {
     "base_uri": "https://localhost:8080/",
     "height": 791
    },
    "id": "NGu0YX5Fmbmm",
    "outputId": "a48f121b-a989-465e-c966-e7d18bb297f3"
   },
   "execution_count": 28,
   "outputs": []
  },
  {
   "cell_type": "markdown",
   "source": [
    "Checking for Missing values in the selected features"
   ],
   "metadata": {
    "id": "BXnd4TKinHdI"
   }
  },
  {
   "cell_type": "code",
   "source": [
    "missing_values = X.isnull().sum()\n",
    "print(missing_values)"
   ],
   "metadata": {
    "colab": {
     "base_uri": "https://localhost:8080/"
    },
    "id": "wo0ZpPFTnLDI",
    "outputId": "ea112cc3-8dd2-4d45-f4c4-42870b2f084b"
   },
   "execution_count": 29,
   "outputs": []
  },
  {
   "cell_type": "markdown",
   "source": [
    "# The Linear Regression Model"
   ],
   "metadata": {
    "id": "8ZDAsM8cnVI3"
   }
  },
  {
   "cell_type": "code",
   "source": [
    "model = LinearRegression()"
   ],
   "metadata": {
    "id": "H2O0vjnenSYB"
   },
   "execution_count": 31,
   "outputs": []
  },
  {
   "cell_type": "markdown",
   "source": [
    "Fitting the model"
   ],
   "metadata": {
    "id": "IARbMmbAniqU"
   }
  },
  {
   "cell_type": "code",
   "source": [
    "model.fit(X_train, y_train)\n",
    "print(model)"
   ],
   "metadata": {
    "colab": {
     "base_uri": "https://localhost:8080/"
    },
    "id": "gQQ9UyRDnj2F",
    "outputId": "f2a8ef9a-0e19-4dec-a306-b155361ae168"
   },
   "execution_count": 32,
   "outputs": []
  },
  {
   "cell_type": "markdown",
   "source": [
    "Predicting on the Testing data"
   ],
   "metadata": {
    "id": "PY4VFXftntV1"
   }
  },
  {
   "cell_type": "code",
   "source": [
    "y_pred = model.predict(X_test)\n",
    "\n",
    "# Calculating the Mean Squared Error\n",
    "mse = mean_squared_error(y_pred, y_test)\n",
    "print(f\"Mean Squared Error: {mse}\")\n"
   ],
   "metadata": {
    "colab": {
     "base_uri": "https://localhost:8080/"
    },
    "id": "tUJvSESYnnVd",
    "outputId": "559d356c-6ec2-42f2-eb3d-28f329257bb7"
   },
   "execution_count": 36,
   "outputs": []
  },
  {
   "cell_type": "markdown",
   "source": [
    "Printing Cross Validation Scores"
   ],
   "metadata": {
    "id": "W6vkM3gppzDU"
   }
  },
  {
   "cell_type": "code",
   "source": [
    "scores = cross_val_score(model, X, y, cv=5)\n",
    "print(f'Cross-Validation Scores: {scores}')\n",
    "print(f'Mean CV Score: {scores.mean()}')"
   ],
   "metadata": {
    "colab": {
     "base_uri": "https://localhost:8080/"
    },
    "id": "kDpZ7n89qLWf",
    "outputId": "643d4ea9-a078-44f6-c041-4c06dd3a36d9"
   },
   "execution_count": 42,
   "outputs": []
  },
  {
   "cell_type": "markdown",
   "source": [
    "Plotting Actual VS Predicted Prices"
   ],
   "metadata": {
    "id": "BtOQ7ms5qoih"
   }
  },
  {
   "cell_type": "code",
   "source": [
    "plt.scatter(y_test, y_pred, c='Green')\n",
    "plt.xlabel(\"Actual Prices\")\n",
    "plt.ylabel(\"Predicted Prices\")\n",
    "plt.title(\"Actual Prices vs. Predicted Prices\")\n",
    "plt.show()"
   ],
   "metadata": {
    "colab": {
     "base_uri": "https://localhost:8080/",
     "height": 472
    },
    "id": "nby0RIdEqsUS",
    "outputId": "49fb2412-62d9-41cf-9a0e-b3eda8a5db53"
   },
   "execution_count": 44,
   "outputs": []
  },
  {
   "cell_type": "markdown",
   "source": [
    "Taking a demo new house to predict the price"
   ],
   "metadata": {
    "id": "NlmWqlz7pbxn"
   }
  },
  {
   "cell_type": "code",
   "source": [
    "demo_house = np.array([[1500, 4, 2,0,3,1]])\n",
    "predicted_price = model.predict(demo_house)\n",
    "print(f\"Predicted Price for the New House: ${predicted_price[0]:.2f}\")"
   ],
   "metadata": {
    "colab": {
     "base_uri": "https://localhost:8080/"
    },
    "id": "mu4cnT-Rn4_g",
    "outputId": "93a8f6cc-a05b-485f-ed53-f316d01004e7"
   },
   "execution_count": 45,
   "outputs": []
  }
 ]
}
